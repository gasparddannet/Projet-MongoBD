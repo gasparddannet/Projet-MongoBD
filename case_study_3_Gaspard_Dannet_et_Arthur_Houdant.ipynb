{
  "nbformat": 4,
  "nbformat_minor": 0,
  "metadata": {
    "colab": {
      "provenance": []
    },
    "kernelspec": {
      "name": "python3",
      "display_name": "Python 3"
    },
    "language_info": {
      "name": "python"
    }
  },
  "cells": [
    {
      "cell_type": "markdown",
      "source": [
        "# **1 - Un exemple**\n",
        "\n",
        "Alfred, Berthe, Camille et Daphné étudient ensemble à Toulouse et veulent co voiturer pour les vacances de Noel. Alfred est à Narbonne, Berthe à Vienne, Camille à Lyon et Daphné à Munich. Les distances à Toulouse des villes d'arrivée sont les suivantes : T A = 100 km, T B = 450\n",
        "km, T C = 500 et T D = 1450 km\n",
        "\n",
        "Proposer et discuter une solution de partage équitable du cout du covoiturage."
      ],
      "metadata": {
        "id": "iGTqFqATDJfd"
      }
    },
    {
      "cell_type": "markdown",
      "source": [
        "Pour obtenir une solution de partage équitable, on peut utiliser la solution de Shapley.\n",
        "\n",
        "Ainsi, on calul :\n",
        "\n",
        "\n",
        "_           |  $\\Delta A$  |  $\\Delta B$  |  $\\Delta C$  |  $\\Delta D$  |\n",
        "------------|------|------|------|------|\n",
        "A B C D     | 100  | 350  | 50   | 950  |\n",
        "A B D C     | 100  | 350  | 0    | 1000 |\n",
        "A C B D     | 100  | 0    | 400  | 950  |\n",
        "A C D B     | 100  | 0    | 400  | 950  |\n",
        "A D C B     | 100  | 0    | 0    | 1350 |\n",
        "A D B C     | 100  | 0    | 0    | 1350 |\n",
        "B A C D     | 0    | 450  | 50   | 950  |\n",
        "B A D C     | 0    | 450  | 0    | 1000 |\n",
        "B C A D     | 0    | 450  | 50   | 950  |\n",
        "B C D A     | 0    | 450  | 50   | 950  |\n",
        "B D A C     | 0    | 450  | 0    | 1000 |\n",
        "B D C A     | 0    | 450  | 0    | 1000 |\n",
        "C A B D     | 0    | 0    | 500  | 950  |\n",
        "C A D B     | 0    | 0    | 500  | 950  |\n",
        "C B A D     | 0    | 0    | 500  | 950  |\n",
        "C B D A     | 0    | 0    | 500  | 950  |\n",
        "C D A B     | 0    | 0    | 500  | 950  |\n",
        "C D B A     | 0    | 0    | 500  | 950  |\n",
        "D A C B     | 0    | 0    | 0    | 1450 |\n",
        "D A B C     | 0    | 0    | 0    | 1450 |\n",
        "D B A C     | 0    | 0    | 0    | 1450 |\n",
        "D B C A     | 0    | 0    | 0    | 1450 |\n",
        "D C A B     | 0    | 0    | 0    | 1450 |\n",
        "D C B A     | 0    | 0    | 0    | 1450 |\n",
        "\n",
        "\n",
        "Et donc on obtient:\n",
        "\n",
        "<!-- $\\textrm{Texte}_\\textrm{Indice}$ -->\n",
        "\n",
        "$ x_{A} = \\frac{100*6}{24} = 25 $\n",
        "\n",
        "$ x_{B} = \\frac{350*2+450*6}{24} = \\frac{425}{3} \\approx 141.67 $\n",
        "\n",
        "$ x_{C} = \\frac{50*4+400*2+500*6}{24} = \\frac{500}{3} \\approx 166.67 $\n",
        "\n",
        "$ x_{D} = \\frac{950*12+100*4+1350*2+1450*6}{24} \\approx 1116.67 $\n",
        "\n",
        "\n",
        "\n",
        "Cette solution vérifie bien le stand-alone test et est bien dans le noyau.\n",
        "Donc aucun voyageurs n'ont intêret à voyager seuls (ou en sous-groupe) sans covoiturer avec le reste du groupe."
      ],
      "metadata": {
        "id": "v8B7CGCPDiyt"
      }
    },
    {
      "cell_type": "markdown",
      "source": [
        "# **2 - Un logiciel**"
      ],
      "metadata": {
        "id": "iOd8DSGpJ2cp"
      }
    },
    {
      "cell_type": "code",
      "source": [
        "# Definition des parametres\n",
        "\n",
        "trajet_predefini = \"Toulouse-Munich\"\n",
        "\n",
        "distances = {\n",
        "    (\"Berthe\", \"Toulouse-Vienne\"):      450,\n",
        "    (\"Alfred\", \"Toulouse-Narbonne\"):    100,\n",
        "    (\"Camille\", \"Toulouse-Lyon\"):       500,\n",
        "    (\"Daphne\", \"Toulouse-Munich\"):      1450\n",
        "    }\n",
        "\n",
        "cout_km = 1"
      ],
      "metadata": {
        "id": "4IETvIeDKZCX"
      },
      "execution_count": 2,
      "outputs": []
    },
    {
      "cell_type": "code",
      "source": [
        "# Fonction qui permet de calculer les coûts de tuples de voyageurs si ils ne covoiturent pas avec le groupe\n",
        "def cout_tuple(list_cout_seul, nb):\n",
        "    cout = {}\n",
        "    nbPers = len(list_cout_seul)\n",
        "    if nb >= 2:\n",
        "        for j in range(nbPers):\n",
        "            for k in range(j+1, nbPers):\n",
        "                if nb >= 3:\n",
        "                    for l in range(k+1, nbPers):\n",
        "                        if nb>=4:\n",
        "                            if nb>=5:\n",
        "                                print(\"error nb > 4 !\")\n",
        "                            for m in range(l+1, nbPers):\n",
        "                                p1, c1 = list_cout_seul[j]\n",
        "                                p2, c2 = list_cout_seul[k]\n",
        "                                p3, c3 = list_cout_seul[l]\n",
        "                                p4, c4 = list_cout_seul[m]\n",
        "                                cout[(p1, p2, p3, p4)] = max(c1, c2, c3, c4)\n",
        "                        else:\n",
        "                            p1, c1 = list_cout_seul[j]\n",
        "                            p2, c2 = list_cout_seul[k]\n",
        "                            p3, c3 = list_cout_seul[l]\n",
        "                            cout[(p1, p2, p3)] = max(c1, c2, c3)\n",
        "                else:\n",
        "                    p1, c1 = list_cout_seul[j]\n",
        "                    p2, c2 = list_cout_seul[k]\n",
        "                    cout[(p1, p2)] = max(c1, c2)\n",
        "    else:\n",
        "        print(\"error nb < 2 !\")\n",
        "    return cout"
      ],
      "metadata": {
        "id": "pOPcsc-HKcns"
      },
      "execution_count": 3,
      "outputs": []
    },
    {
      "cell_type": "code",
      "source": [
        "# Fonction qui teste une allocation donnée, dit si cette allocation satisfait le stand-alone test, calcule les couts si seuls\n",
        "# de tous les sous-groupes de passagers et dit si cette allocation est dans le noyau\n",
        "\n",
        "def test_alloc(distances, cout_km, allocation):\n",
        "    distances = dict(sorted(distances.items(), key=lambda x:x[1]))\n",
        "\n",
        "    dict_cout_seul = {}\n",
        "    for elt, c in distances.items():\n",
        "        p, t = elt\n",
        "        dict_cout_seul[p] = c * cout_km\n",
        "\n",
        "    nbPers = len(distances)\n",
        "\n",
        "    list_cout_seul = list(dict_cout_seul.items())\n",
        "\n",
        "    for i in range(2, nbPers):\n",
        "        print(\"i=\", i, \" cout_tuple:\", cout_tuple(list_cout_seul,i))\n",
        "\n",
        "    # Stand alone test\n",
        "    b = True\n",
        "    for i in range(nbPers):\n",
        "        p, c = list_cout_seul[i]\n",
        "        if allocation[p] > c:\n",
        "            b = False\n",
        "            print(\"Cette allocation ne respecte pas le stand alone test car pour \", p, \" son allocation vaut : \", allocation[p], \" mais tout seul son cout serait : \", c)\n",
        "    if b:\n",
        "        print(\"Cette allocation respecte le stand alone test\")\n",
        "\n",
        "\n",
        "    # Noyau\n",
        "    if not b:\n",
        "        print(\"Cette allocation n'est pas dans le noyau car elle ne respecte pas le stand alone test\")\n",
        "    else:\n",
        "        for i in range(2, nbPers+1):\n",
        "            cout_tuplee = cout_tuple(list_cout_seul, i)\n",
        "            for elt, cout_seul in cout_tuplee.items():\n",
        "                cout_alloc = 0\n",
        "                for j in range(len(elt)):\n",
        "                    cout_alloc += allocation[elt[j]]\n",
        "                if cout_alloc > cout_seul:\n",
        "                    print(\"Cette allocation n'est pas dans le noyau car pour le couple \", elt, \" le cout seul vaut : \", cout_seul, \" et le cout en collaborant vaut : \", cout_alloc)\n",
        "                    b = False\n",
        "        if b:\n",
        "            print(\"Cette allocation est dans le noyau\")\n"
      ],
      "metadata": {
        "id": "_v0BVx1HK4G4"
      },
      "execution_count": 4,
      "outputs": []
    },
    {
      "cell_type": "code",
      "source": [
        "# Definition du logiciel, qui en fonction du trajet predefini, des distances et du cout par km\n",
        "# renvoie le cout total, le cout si seul pour chaque passager, l'allocation à couts proportionnels et l'allocation par séparation\n",
        "# et teste ces allocations\n",
        "\n",
        "def logiciel(trajet_predefini, distances, cout_km):\n",
        "    distances = dict(sorted(distances.items(), key=lambda x:x[1]))\n",
        "\n",
        "    dict_cout_seul = {}\n",
        "    for elt, c in distances.items():\n",
        "        p, t = elt\n",
        "        dict_cout_seul[p] = c * cout_km\n",
        "        if t == trajet_predefini:\n",
        "            cout_total = c * cout_km\n",
        "\n",
        "\n",
        "    # Allocation à couts proportionnels\n",
        "    l = []\n",
        "    cpt = 0\n",
        "    for p, c in dict_cout_seul.items():\n",
        "        if cpt==0:\n",
        "            cpt+=1\n",
        "            name = p\n",
        "        else:\n",
        "            l.append(c/dict_cout_seul[name])\n",
        "\n",
        "    alloc_cout_proportionnels={}\n",
        "    alloc_cout_proportionnels[name] = cout_total / (sum(l)+ 1)\n",
        "    cpt = 0\n",
        "    for p, c in dict_cout_seul.items():\n",
        "        if cpt==0:\n",
        "            cpt+=1\n",
        "        else:\n",
        "            alloc_cout_proportionnels[p] = (c * alloc_cout_proportionnels[name]) / dict_cout_seul[name]\n",
        "\n",
        "\n",
        "    # Allocation par separation\n",
        "    alloc_separation = {}\n",
        "    nbPers = len(distances)\n",
        "    cout_del = 0\n",
        "    cout_add = 0\n",
        "    for p, c in dict_cout_seul.items():\n",
        "        alloc_separation[p] = (c - cout_del)/nbPers + cout_add\n",
        "        cout_add += (c - cout_del)/nbPers\n",
        "        nbPers-=1\n",
        "        cout_del = c\n",
        "\n",
        "\n",
        "    print(\"Cout total:\", cout_total)\n",
        "    print(\"Cout seul:\", dict_cout_seul)\n",
        "    print(\"\\nAllocation a couts proportionnels:\", alloc_cout_proportionnels)\n",
        "    print(\"Allocation par separation:\", alloc_separation)\n",
        "\n",
        "\n",
        "    print(\"\\nTest de l'allocation a couts proportionnels\")\n",
        "    test_alloc(distances, cout_km, alloc_cout_proportionnels)\n",
        "\n",
        "    print(\"\\n\\n\")\n",
        "    print(\"Test de l'allocation par separation\")\n",
        "    test_alloc(distances, cout_km, alloc_separation)"
      ],
      "metadata": {
        "id": "_846sa-NJ9mL"
      },
      "execution_count": 5,
      "outputs": []
    },
    {
      "cell_type": "code",
      "source": [
        "logiciel(trajet_predefini, distances, cout_km)"
      ],
      "metadata": {
        "colab": {
          "base_uri": "https://localhost:8080/"
        },
        "id": "UWGy7nj7LpQL",
        "outputId": "d8977147-5901-4fe3-cf94-871b1191147d"
      },
      "execution_count": 6,
      "outputs": [
        {
          "output_type": "stream",
          "name": "stdout",
          "text": [
            "Cout total: 1450\n",
            "Cout seul: {'Alfred': 100, 'Berthe': 450, 'Camille': 500, 'Daphne': 1450}\n",
            "\n",
            "Allocation a couts proportionnels: {'Alfred': 58.0, 'Berthe': 261.0, 'Camille': 290.0, 'Daphne': 841.0}\n",
            "Allocation par separation: {'Alfred': 25.0, 'Berthe': 141.66666666666669, 'Camille': 166.66666666666669, 'Daphne': 1116.6666666666667}\n",
            "\n",
            "Test de l'allocation a couts proportionnels\n",
            "i= 2  cout_tuple: {('Alfred', 'Berthe'): 450, ('Alfred', 'Camille'): 500, ('Alfred', 'Daphne'): 1450, ('Berthe', 'Camille'): 500, ('Berthe', 'Daphne'): 1450, ('Camille', 'Daphne'): 1450}\n",
            "i= 3  cout_tuple: {('Alfred', 'Berthe', 'Camille'): 500, ('Alfred', 'Berthe', 'Daphne'): 1450, ('Alfred', 'Camille', 'Daphne'): 1450, ('Berthe', 'Camille', 'Daphne'): 1450}\n",
            "Cette allocation respecte le stand alone test\n",
            "Cette allocation n'est pas dans le noyau car pour le couple  ('Berthe', 'Camille')  le cout seul vaut :  500  et le cout en collaborant vaut :  551.0\n",
            "Cette allocation n'est pas dans le noyau car pour le couple  ('Alfred', 'Berthe', 'Camille')  le cout seul vaut :  500  et le cout en collaborant vaut :  609.0\n",
            "\n",
            "\n",
            "\n",
            "Test de l'allocation par separation\n",
            "i= 2  cout_tuple: {('Alfred', 'Berthe'): 450, ('Alfred', 'Camille'): 500, ('Alfred', 'Daphne'): 1450, ('Berthe', 'Camille'): 500, ('Berthe', 'Daphne'): 1450, ('Camille', 'Daphne'): 1450}\n",
            "i= 3  cout_tuple: {('Alfred', 'Berthe', 'Camille'): 500, ('Alfred', 'Berthe', 'Daphne'): 1450, ('Alfred', 'Camille', 'Daphne'): 1450, ('Berthe', 'Camille', 'Daphne'): 1450}\n",
            "Cette allocation respecte le stand alone test\n",
            "Cette allocation est dans le noyau\n"
          ]
        }
      ]
    }
  ]
}